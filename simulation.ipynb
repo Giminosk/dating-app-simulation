{
 "cells": [
  {
   "cell_type": "markdown",
   "metadata": {},
   "source": [
    "### Introduction\n",
    "\n",
    "In this notebook, I explore the dynamics of dating apps through simulation. I aim to understand how various factors such as gender ratio, like rate, and attractiveness distribution affect number of likes and matches for men and women.\n"
   ]
  },
  {
   "cell_type": "code",
   "execution_count": 1,
   "metadata": {},
   "outputs": [],
   "source": [
    "import numpy as np\n",
    "import pandas as pd\n",
    "import matplotlib.pyplot as plt\n",
    "import seaborn as sns"
   ]
  },
  {
   "cell_type": "markdown",
   "metadata": {},
   "source": [
    "### Introduction to Experiment 1\n",
    "\n",
    "In this first experiment, we set up a baseline scenario where the number of men and women is equal, and both genders have the same like rate."
   ]
  },
  {
   "cell_type": "code",
   "execution_count": 2,
   "metadata": {},
   "outputs": [],
   "source": [
    "class Person:\n",
    "    def __init__(self, like_rate, gender):\n",
    "        self.like_rate = like_rate\n",
    "        self.gender = gender\n",
    "        self.given_likes = set()\n",
    "        self.got_likes = set()\n",
    "        self.num_likes = 0\n",
    "        self.num_matches = 0\n",
    "\n",
    "    def calculate(self):\n",
    "        self.num_likes = len(self.got_likes)\n",
    "        self.num_matches = len(self.given_likes.intersection(self.got_likes))\n",
    "\n",
    "    @staticmethod\n",
    "    def calculate_average(people):\n",
    "        avg_likes = np.mean([person.num_likes for person in people])\n",
    "        avg_matches = np.mean([person.num_matches for person in people])\n",
    "        md_likes = np.median([person.num_likes for person in people])\n",
    "        md_matches = np.median([person.num_matches for person in people])\n",
    "        return avg_likes, avg_matches, md_likes, md_matches"
   ]
  },
  {
   "cell_type": "code",
   "execution_count": 3,
   "metadata": {},
   "outputs": [],
   "source": [
    "DAILY_SWIPES = 200\n",
    "NUM_MEN = 1000\n",
    "NUM_WOMEN = 1000\n",
    "LIKE_RATE = 0.25\n",
    "LIKE_RATE_MEN = LIKE_RATE_WOMEN = LIKE_RATE"
   ]
  },
  {
   "cell_type": "code",
   "execution_count": 4,
   "metadata": {},
   "outputs": [],
   "source": [
    "def simulate():\n",
    "\n",
    "    men = [Person(LIKE_RATE_MEN, 'M') for _ in range(NUM_MEN)]\n",
    "    women = [Person(LIKE_RATE_WOMEN,'W') for _ in range(NUM_WOMEN)]\n",
    "\n",
    "    all_people = men + women\n",
    "    \n",
    "    for person in all_people:\n",
    "        potential_matches = women if person.gender == 'M' else men\n",
    "        max_swipes = min(DAILY_SWIPES, len(potential_matches))\n",
    "        liked_people = np.random.choice(potential_matches, int(max_swipes * person.like_rate), replace=False)\n",
    "        person.given_likes.update(liked_people)\n",
    "        for liked_person in liked_people:\n",
    "            liked_person.got_likes.add(person)\n",
    "\n",
    "\n",
    "    for person in all_people:\n",
    "        person.calculate()\n",
    "\n",
    "\n",
    "    avg_likes_men, avg_matches_men, median_likes_men, median_matches_men = Person.calculate_average(men)\n",
    "    avg_likes_women, avg_matches_women, median_likes_women, median_matches_women = Person.calculate_average(women)\n",
    "\n",
    "\n",
    "    columns = ['Metric', 'Men', 'Women']\n",
    "    df = pd.DataFrame([\n",
    "        ['Average number of likes', avg_likes_men, avg_likes_women],\n",
    "        ['Median number of likes', median_likes_men, median_likes_women],\n",
    "        ['Average number of matches', avg_matches_men, avg_matches_women],\n",
    "        ['Median number of matches', median_matches_men, median_matches_women]\n",
    "    ], columns=columns)\n",
    "\n",
    "    display(df)"
   ]
  },
  {
   "cell_type": "code",
   "execution_count": 5,
   "metadata": {},
   "outputs": [
    {
     "data": {
      "text/html": [
       "<div>\n",
       "<style scoped>\n",
       "    .dataframe tbody tr th:only-of-type {\n",
       "        vertical-align: middle;\n",
       "    }\n",
       "\n",
       "    .dataframe tbody tr th {\n",
       "        vertical-align: top;\n",
       "    }\n",
       "\n",
       "    .dataframe thead th {\n",
       "        text-align: right;\n",
       "    }\n",
       "</style>\n",
       "<table border=\"1\" class=\"dataframe\">\n",
       "  <thead>\n",
       "    <tr style=\"text-align: right;\">\n",
       "      <th></th>\n",
       "      <th>Metric</th>\n",
       "      <th>Men</th>\n",
       "      <th>Women</th>\n",
       "    </tr>\n",
       "  </thead>\n",
       "  <tbody>\n",
       "    <tr>\n",
       "      <th>0</th>\n",
       "      <td>Average number of likes</td>\n",
       "      <td>50.000</td>\n",
       "      <td>50.000</td>\n",
       "    </tr>\n",
       "    <tr>\n",
       "      <th>1</th>\n",
       "      <td>Median number of likes</td>\n",
       "      <td>50.000</td>\n",
       "      <td>50.000</td>\n",
       "    </tr>\n",
       "    <tr>\n",
       "      <th>2</th>\n",
       "      <td>Average number of matches</td>\n",
       "      <td>2.605</td>\n",
       "      <td>2.605</td>\n",
       "    </tr>\n",
       "    <tr>\n",
       "      <th>3</th>\n",
       "      <td>Median number of matches</td>\n",
       "      <td>2.000</td>\n",
       "      <td>2.000</td>\n",
       "    </tr>\n",
       "  </tbody>\n",
       "</table>\n",
       "</div>"
      ],
      "text/plain": [
       "                      Metric     Men   Women\n",
       "0    Average number of likes  50.000  50.000\n",
       "1     Median number of likes  50.000  50.000\n",
       "2  Average number of matches   2.605   2.605\n",
       "3   Median number of matches   2.000   2.000"
      ]
     },
     "metadata": {},
     "output_type": "display_data"
    }
   ],
   "source": [
    "simulate()"
   ]
  },
  {
   "cell_type": "markdown",
   "metadata": {},
   "source": [
    "#### Results for Experiment 1\n",
    "\n",
    "The simulation shows that, under these ideal conditions, both genders receive an equal number of likes and matches. This serves as our control experiment for comparison with more realistic scenarios."
   ]
  },
  {
   "cell_type": "markdown",
   "metadata": {},
   "source": [
    "### Introduction to Experiment 2\n",
    "\n",
    "In this experiment, we introduce a gender imbalance, simulating a scenario where there are more men than women on the dating app."
   ]
  },
  {
   "cell_type": "code",
   "execution_count": 6,
   "metadata": {},
   "outputs": [
    {
     "data": {
      "text/html": [
       "<div>\n",
       "<style scoped>\n",
       "    .dataframe tbody tr th:only-of-type {\n",
       "        vertical-align: middle;\n",
       "    }\n",
       "\n",
       "    .dataframe tbody tr th {\n",
       "        vertical-align: top;\n",
       "    }\n",
       "\n",
       "    .dataframe thead th {\n",
       "        text-align: right;\n",
       "    }\n",
       "</style>\n",
       "<table border=\"1\" class=\"dataframe\">\n",
       "  <thead>\n",
       "    <tr style=\"text-align: right;\">\n",
       "      <th></th>\n",
       "      <th>Metric</th>\n",
       "      <th>Men</th>\n",
       "      <th>Women</th>\n",
       "    </tr>\n",
       "  </thead>\n",
       "  <tbody>\n",
       "    <tr>\n",
       "      <th>0</th>\n",
       "      <td>Average number of likes</td>\n",
       "      <td>21.428571</td>\n",
       "      <td>116.666667</td>\n",
       "    </tr>\n",
       "    <tr>\n",
       "      <th>1</th>\n",
       "      <td>Median number of likes</td>\n",
       "      <td>21.000000</td>\n",
       "      <td>116.000000</td>\n",
       "    </tr>\n",
       "    <tr>\n",
       "      <th>2</th>\n",
       "      <td>Average number of matches</td>\n",
       "      <td>1.787143</td>\n",
       "      <td>4.170000</td>\n",
       "    </tr>\n",
       "    <tr>\n",
       "      <th>3</th>\n",
       "      <td>Median number of matches</td>\n",
       "      <td>2.000000</td>\n",
       "      <td>4.000000</td>\n",
       "    </tr>\n",
       "  </tbody>\n",
       "</table>\n",
       "</div>"
      ],
      "text/plain": [
       "                      Metric        Men       Women\n",
       "0    Average number of likes  21.428571  116.666667\n",
       "1     Median number of likes  21.000000  116.000000\n",
       "2  Average number of matches   1.787143    4.170000\n",
       "3   Median number of matches   2.000000    4.000000"
      ]
     },
     "metadata": {},
     "output_type": "display_data"
    }
   ],
   "source": [
    "DAILY_SWIPES = 200\n",
    "NUM_MEN = 1400\n",
    "NUM_WOMEN = 600\n",
    "LIKE_RATE = 0.25\n",
    "LIKE_RATE_MEN = LIKE_RATE_WOMEN = LIKE_RATE\n",
    "\n",
    "simulate()"
   ]
  },
  {
   "cell_type": "markdown",
   "metadata": {},
   "source": [
    "#### Results for Experiment 2\n",
    "\n",
    "The results reveal a significant gender imbalance. Men receive fewer likes and matches, while women receive more. This aligns with real-world observations of dating apps."
   ]
  },
  {
   "cell_type": "markdown",
   "metadata": {},
   "source": [
    "### Introduction to Experiment 3\n",
    "\n",
    "Here, we not only maintain the gender imbalance but also introduce different like rates for men and women."
   ]
  },
  {
   "cell_type": "code",
   "execution_count": 7,
   "metadata": {},
   "outputs": [
    {
     "data": {
      "text/html": [
       "<div>\n",
       "<style scoped>\n",
       "    .dataframe tbody tr th:only-of-type {\n",
       "        vertical-align: middle;\n",
       "    }\n",
       "\n",
       "    .dataframe tbody tr th {\n",
       "        vertical-align: top;\n",
       "    }\n",
       "\n",
       "    .dataframe thead th {\n",
       "        text-align: right;\n",
       "    }\n",
       "</style>\n",
       "<table border=\"1\" class=\"dataframe\">\n",
       "  <thead>\n",
       "    <tr style=\"text-align: right;\">\n",
       "      <th></th>\n",
       "      <th>Metric</th>\n",
       "      <th>Men</th>\n",
       "      <th>Women</th>\n",
       "    </tr>\n",
       "  </thead>\n",
       "  <tbody>\n",
       "    <tr>\n",
       "      <th>0</th>\n",
       "      <td>Average number of likes</td>\n",
       "      <td>12.857143</td>\n",
       "      <td>210.0</td>\n",
       "    </tr>\n",
       "    <tr>\n",
       "      <th>1</th>\n",
       "      <td>Median number of likes</td>\n",
       "      <td>13.000000</td>\n",
       "      <td>210.0</td>\n",
       "    </tr>\n",
       "    <tr>\n",
       "      <th>2</th>\n",
       "      <td>Average number of matches</td>\n",
       "      <td>2.014286</td>\n",
       "      <td>4.7</td>\n",
       "    </tr>\n",
       "    <tr>\n",
       "      <th>3</th>\n",
       "      <td>Median number of matches</td>\n",
       "      <td>2.000000</td>\n",
       "      <td>5.0</td>\n",
       "    </tr>\n",
       "  </tbody>\n",
       "</table>\n",
       "</div>"
      ],
      "text/plain": [
       "                      Metric        Men  Women\n",
       "0    Average number of likes  12.857143  210.0\n",
       "1     Median number of likes  13.000000  210.0\n",
       "2  Average number of matches   2.014286    4.7\n",
       "3   Median number of matches   2.000000    5.0"
      ]
     },
     "metadata": {},
     "output_type": "display_data"
    }
   ],
   "source": [
    "DAILY_SWIPES = 200\n",
    "NUM_MEN = 1400\n",
    "NUM_WOMEN = 600\n",
    "LIKE_RATE_MEN = 0.45\n",
    "LIKE_RATE_WOMEN = 0.15\n",
    "\n",
    "simulate()"
   ]
  },
  {
   "cell_type": "markdown",
   "metadata": {},
   "source": [
    "#### Results for Experiment 3\n",
    "\n",
    "The gender imbalance in likes and matches becomes even more pronounced. Men are less selective, leading to more matches for women."
   ]
  },
  {
   "cell_type": "markdown",
   "metadata": {},
   "source": [
    "### Introduction to Experiment 4\n",
    "\n",
    "In this experiment, we introduce the concept of attractiveness, assuming it follows a uniform distribution."
   ]
  },
  {
   "cell_type": "code",
   "execution_count": 8,
   "metadata": {},
   "outputs": [],
   "source": [
    "class Person:\n",
    "    def __init__(self, like_rate, gender):\n",
    "        self.like_rate = like_rate\n",
    "        self.gender = gender\n",
    "        self.attractiveness = np.random.uniform(0, 1)\n",
    "        self.given_likes = set()\n",
    "        self.got_likes = set()\n",
    "        self.num_likes = 0\n",
    "        self.num_matches = 0\n",
    "\n",
    "    def calculate(self):\n",
    "        self.num_likes = len(self.got_likes)\n",
    "        self.num_matches = len(self.given_likes.intersection(self.got_likes))\n",
    "\n",
    "    @staticmethod\n",
    "    def calculate_average(people):\n",
    "        avg_likes = np.mean([person.num_likes for person in people])\n",
    "        avg_matches = np.mean([person.num_matches for person in people])\n",
    "        md_likes = np.median([person.num_likes for person in people])\n",
    "        md_matches = np.median([person.num_matches for person in people])\n",
    "        return avg_likes, avg_matches, md_likes, md_matches"
   ]
  },
  {
   "cell_type": "code",
   "execution_count": 9,
   "metadata": {},
   "outputs": [],
   "source": [
    "def simulate():\n",
    "    men = [Person(LIKE_RATE_MEN, 'M') for _ in range(NUM_MEN)]\n",
    "    women = [Person(LIKE_RATE_WOMEN, 'W') for _ in range(NUM_WOMEN)]\n",
    "\n",
    "    all_people = men + women\n",
    "\n",
    "    for person in all_people:\n",
    "        potential_matches = women if person.gender == 'M' else men\n",
    "        max_swipes = min(DAILY_SWIPES, len(potential_matches))\n",
    "        liked_people = [pm for pm in np.random.choice(potential_matches, max_swipes, replace=False) if np.random.uniform(0, 1) < pm.attractiveness]\n",
    "        person.given_likes.update(liked_people)\n",
    "        for liked_person in liked_people:\n",
    "            liked_person.got_likes.add(person)\n",
    "            \n",
    "    for person in all_people:\n",
    "        person.calculate()\n",
    "\n",
    "\n",
    "    avg_likes_men, avg_matches_men, median_likes_men, median_matches_men = Person.calculate_average(men)\n",
    "    avg_likes_women, avg_matches_women, median_likes_women, median_matches_women = Person.calculate_average(women)\n",
    "\n",
    "\n",
    "    columns = ['Metric', 'Men', 'Women']\n",
    "    df = pd.DataFrame([\n",
    "        ['Average number of likes', avg_likes_men, avg_likes_women],\n",
    "        ['Median number of likes', median_likes_men, median_likes_women],\n",
    "        ['Average number of matches', avg_matches_men, avg_matches_women],\n",
    "        ['Median number of matches', median_matches_men, median_matches_women]\n",
    "    ], columns=columns)\n",
    "\n",
    "    display(df)"
   ]
  },
  {
   "cell_type": "code",
   "execution_count": 10,
   "metadata": {},
   "outputs": [
    {
     "data": {
      "text/html": [
       "<div>\n",
       "<style scoped>\n",
       "    .dataframe tbody tr th:only-of-type {\n",
       "        vertical-align: middle;\n",
       "    }\n",
       "\n",
       "    .dataframe tbody tr th {\n",
       "        vertical-align: top;\n",
       "    }\n",
       "\n",
       "    .dataframe thead th {\n",
       "        text-align: right;\n",
       "    }\n",
       "</style>\n",
       "<table border=\"1\" class=\"dataframe\">\n",
       "  <thead>\n",
       "    <tr style=\"text-align: right;\">\n",
       "      <th></th>\n",
       "      <th>Metric</th>\n",
       "      <th>Men</th>\n",
       "      <th>Women</th>\n",
       "    </tr>\n",
       "  </thead>\n",
       "  <tbody>\n",
       "    <tr>\n",
       "      <th>0</th>\n",
       "      <td>Average number of likes</td>\n",
       "      <td>42.634286</td>\n",
       "      <td>226.143333</td>\n",
       "    </tr>\n",
       "    <tr>\n",
       "      <th>1</th>\n",
       "      <td>Median number of likes</td>\n",
       "      <td>43.000000</td>\n",
       "      <td>224.000000</td>\n",
       "    </tr>\n",
       "    <tr>\n",
       "      <th>2</th>\n",
       "      <td>Average number of matches</td>\n",
       "      <td>6.926429</td>\n",
       "      <td>16.161667</td>\n",
       "    </tr>\n",
       "    <tr>\n",
       "      <th>3</th>\n",
       "      <td>Median number of matches</td>\n",
       "      <td>6.000000</td>\n",
       "      <td>16.000000</td>\n",
       "    </tr>\n",
       "  </tbody>\n",
       "</table>\n",
       "</div>"
      ],
      "text/plain": [
       "                      Metric        Men       Women\n",
       "0    Average number of likes  42.634286  226.143333\n",
       "1     Median number of likes  43.000000  224.000000\n",
       "2  Average number of matches   6.926429   16.161667\n",
       "3   Median number of matches   6.000000   16.000000"
      ]
     },
     "metadata": {},
     "output_type": "display_data"
    }
   ],
   "source": [
    "DAILY_SWIPES = 200\n",
    "NUM_MEN = 1400\n",
    "NUM_WOMEN = 600\n",
    "# LIKE_RATE_MEN = 0.45\n",
    "# LIKE_RATE_WOMEN = 0.15\n",
    "\n",
    "simulate()"
   ]
  },
  {
   "cell_type": "markdown",
   "metadata": {},
   "source": [
    "#### Results for Experiment 4\n",
    "\n",
    "Both men and women receive more likes and matches compared to when like rates are fixed. However, the distribution is still uniform, not reflecting real-world scenarios."
   ]
  },
  {
   "cell_type": "markdown",
   "metadata": {},
   "source": [
    "### Introduction to Experiment 5\n",
    "\n",
    "Here, we introduce a skewed distribution for attractiveness, trying to mimic real-world scenarios more closely."
   ]
  },
  {
   "cell_type": "code",
   "execution_count": 11,
   "metadata": {},
   "outputs": [
    {
     "data": {
      "image/png": "[encoded data removed]",
      "text/plain": [
       "<Figure size 1200x500 with 2 Axes>"
      ]
     },
     "metadata": {},
     "output_type": "display_data"
    }
   ],
   "source": [
    "fig, ax = plt.subplots(1, 2, figsize=(12,5))\n",
    "\n",
    "x = np.arange(0, 1, 0.001)\n",
    "ax[0].plot(x, x**5.67, linewidth=2)\n",
    "ax[0].set_title('Men', fontsize=15)\n",
    "ax[0].set_xlabel('Attractiveness', fontsize=12)\n",
    "ax[0].set_ylabel('Probability to get like', fontsize=12)\n",
    "ax[0].axhline(y = 0.15, color = 'r', linestyle = 'dashed') \n",
    "ax[0].text(0, 0.2, 'average = 0.15', color='red')\n",
    "\n",
    "x = np.arange(0, 1, 0.001)\n",
    "ax[1].plot(x, x**1.22, linewidth=2)\n",
    "ax[1].set_title('Women', fontsize=15)\n",
    "ax[1].set_xlabel('Attractiveness', fontsize=12)\n",
    "ax[1].set_ylabel('Probability to get like', fontsize=12)\n",
    "ax[1].axhline(y = 0.45, color = 'r', linestyle = 'dashed')\n",
    "ax[1].text(0, 0.5, 'average = 0.45', color='red')\n",
    "\n",
    "plt.suptitle('Attractivness distribution', fontsize=20);\n",
    "plt.savefig('./distribution_functions.png', dpi=300)"
   ]
  },
  {
   "cell_type": "code",
   "execution_count": 12,
   "metadata": {},
   "outputs": [],
   "source": [
    "class Person:\n",
    "    def __init__(self, gender, n):\n",
    "        self.gender = gender\n",
    "        self.n = n\n",
    "        self.attractiveness = np.random.uniform(0, 1)\n",
    "        self.given_likes = set()\n",
    "        self.got_likes = set()\n",
    "        self.num_likes = 0\n",
    "        self.num_matches = 0\n",
    "        \n",
    "    def calculate(self):\n",
    "        self.num_likes = len(self.got_likes)\n",
    "        self.num_matches = len(self.given_likes.intersection(self.got_likes))\n",
    "\n",
    "    @staticmethod\n",
    "    def calculate_average(people):\n",
    "        avg_likes = np.mean([person.num_likes for person in people])\n",
    "        avg_matches = np.mean([person.num_matches for person in people])\n",
    "        md_likes = np.median([person.num_likes for person in people])\n",
    "        md_matches = np.median([person.num_matches for person in people])\n",
    "        return avg_likes, avg_matches, md_likes, md_matches"
   ]
  },
  {
   "cell_type": "code",
   "execution_count": 13,
   "metadata": {},
   "outputs": [],
   "source": [
    "def simulate():    \n",
    "    men = [Person('M', N_MEN) for _ in range(NUM_MEN)]\n",
    "    women = [Person('W', N_WOMEN) for _ in range(NUM_WOMEN)]\n",
    "\n",
    "    all_people = men + women\n",
    "\n",
    "    for person in all_people:\n",
    "        potential_matches = women if person.gender == 'M' else men\n",
    "        max_swipes = min(DAILY_SWIPES, len(potential_matches))\n",
    "        liked_people = [pm for pm in np.random.choice(potential_matches, max_swipes, replace=False) if np.random.uniform(0, 1) < pm.attractiveness ** pm.n]\n",
    "        person.given_likes.update(liked_people)\n",
    "        for liked_person in liked_people:\n",
    "            liked_person.got_likes.add(person)\n",
    "            \n",
    "    for person in all_people:\n",
    "        person.calculate()\n",
    "\n",
    "\n",
    "    avg_likes_men, avg_matches_men, median_likes_men, median_matches_men = Person.calculate_average(men)\n",
    "    avg_likes_women, avg_matches_women, median_likes_women, median_matches_women = Person.calculate_average(women)\n",
    "\n",
    "\n",
    "    columns = ['Metric', 'Men', 'Women']\n",
    "    df = pd.DataFrame([\n",
    "        ['Average number of likes', avg_likes_men, avg_likes_women],\n",
    "        ['Median number of likes', median_likes_men, median_likes_women],\n",
    "        ['Average number of matches', avg_matches_men, avg_matches_women],\n",
    "        ['Median number of matches', median_matches_men, median_matches_women]\n",
    "    ], columns=columns)\n",
    "\n",
    "    display(df)\n",
    "    \n",
    "    return men, women"
   ]
  },
  {
   "cell_type": "code",
   "execution_count": 14,
   "metadata": {},
   "outputs": [
    {
     "data": {
      "text/html": [
       "<div>\n",
       "<style scoped>\n",
       "    .dataframe tbody tr th:only-of-type {\n",
       "        vertical-align: middle;\n",
       "    }\n",
       "\n",
       "    .dataframe tbody tr th {\n",
       "        vertical-align: top;\n",
       "    }\n",
       "\n",
       "    .dataframe thead th {\n",
       "        text-align: right;\n",
       "    }\n",
       "</style>\n",
       "<table border=\"1\" class=\"dataframe\">\n",
       "  <thead>\n",
       "    <tr style=\"text-align: right;\">\n",
       "      <th></th>\n",
       "      <th>Metric</th>\n",
       "      <th>Men</th>\n",
       "      <th>Women</th>\n",
       "    </tr>\n",
       "  </thead>\n",
       "  <tbody>\n",
       "    <tr>\n",
       "      <th>0</th>\n",
       "      <td>Average number of likes</td>\n",
       "      <td>13.088571</td>\n",
       "      <td>203.711667</td>\n",
       "    </tr>\n",
       "    <tr>\n",
       "      <th>1</th>\n",
       "      <td>Median number of likes</td>\n",
       "      <td>1.000000</td>\n",
       "      <td>190.000000</td>\n",
       "    </tr>\n",
       "    <tr>\n",
       "      <th>2</th>\n",
       "      <td>Average number of matches</td>\n",
       "      <td>1.877857</td>\n",
       "      <td>4.381667</td>\n",
       "    </tr>\n",
       "    <tr>\n",
       "      <th>3</th>\n",
       "      <td>Median number of matches</td>\n",
       "      <td>0.000000</td>\n",
       "      <td>4.000000</td>\n",
       "    </tr>\n",
       "  </tbody>\n",
       "</table>\n",
       "</div>"
      ],
      "text/plain": [
       "                      Metric        Men       Women\n",
       "0    Average number of likes  13.088571  203.711667\n",
       "1     Median number of likes   1.000000  190.000000\n",
       "2  Average number of matches   1.877857    4.381667\n",
       "3   Median number of matches   0.000000    4.000000"
      ]
     },
     "metadata": {},
     "output_type": "display_data"
    }
   ],
   "source": [
    "DAILY_SWIPES = 200\n",
    "NUM_MEN = 1400\n",
    "NUM_WOMEN = 600\n",
    "N_MEN = 5.67 \n",
    "N_WOMEN = 1.22\n",
    "\n",
    "men, women = simulate()"
   ]
  },
  {
   "cell_type": "code",
   "execution_count": 15,
   "metadata": {},
   "outputs": [],
   "source": [
    "def collect_stats(people):\n",
    "    bins = {i: {'likes': [], 'matches': []} for i in range(10)}\n",
    "    for person in people:\n",
    "        attractiveness_bin = np.floor(person.attractiveness * 10)\n",
    "        bins[attractiveness_bin]['likes'].append(person.num_likes)\n",
    "        bins[attractiveness_bin]['matches'].append(person.num_matches)\n",
    "    bins_ = {}\n",
    "    for bin in bins:\n",
    "        bins_[f'{bin*10}-{bin*10+10}'] = {}\n",
    "        bins_[f'{bin*10}-{bin*10+10}']['likes'] = np.mean(bins[bin]['likes'])\n",
    "        bins_[f'{bin*10}-{bin*10+10}']['matches'] = np.mean(bins[bin]['matches'])\n",
    "    return bins_\n"
   ]
  },
  {
   "cell_type": "code",
   "execution_count": 16,
   "metadata": {},
   "outputs": [],
   "source": [
    "stats_men = collect_stats(men)\n",
    "stats_women = collect_stats(women)"
   ]
  },
  {
   "cell_type": "code",
   "execution_count": 17,
   "metadata": {
    "slideshow": {
     "slide_type": "slide"
    }
   },
   "outputs": [
    {
     "data": {
      "image/png": "[encoded data removed]",
      "text/plain": [
       "<Figure size 1500x600 with 2 Axes>"
      ]
     },
     "metadata": {},
     "output_type": "display_data"
    }
   ],
   "source": [
    "data = []\n",
    "for attractiveness_bin, stats in stats_men.items():\n",
    "    data.append({'Attractiveness': attractiveness_bin, 'Gender': 'Men', 'Likes': stats['likes'], 'Matches': stats['matches']})\n",
    "for attractiveness_bin, stats in stats_women.items():\n",
    "    data.append({'Attractiveness': attractiveness_bin, 'Gender': 'Women', 'Likes': stats['likes'], 'Matches': stats['matches']})\n",
    "\n",
    "df = pd.DataFrame(data)\n",
    "\n",
    "fig, ax = plt.subplots(1, 2, figsize=(15, 6))\n",
    "\n",
    "sns.barplot(x='Attractiveness', y='Likes', hue='Gender', data=df, ax=ax[0])\n",
    "ax[0].set_title('Number of Likes by Attractiveness')\n",
    "\n",
    "sns.barplot(x='Attractiveness', y='Matches', hue='Gender', data=df, ax=ax[1])\n",
    "ax[1].set_title('Number of Matches by Attractiveness')\n",
    "\n",
    "plt.savefig('./distributions.jpg', dpi=300)\n",
    "plt.show();"
   ]
  },
  {
   "cell_type": "markdown",
   "metadata": {},
   "source": [
    "### Results\n",
    "\n",
    "The results of this experiment reveal several intriguing dynamics:\n",
    "\n",
    "General Imbalance: As expected, the skewed distribution of attractiveness leads to a significant imbalance in the number of likes and matches received by men and women. Women, on average, receive more likes, but the distribution is highly skewed towards the top percentile of men.\n",
    "\n",
    "Top Men: Interestingly, the men in the top attractiveness percentiles not only receive a disproportionately high number of likes but also a very high number of matches. In some percentiles, these top men even surpass women in the number of matches.\n",
    "\n",
    "Why More Matches for Top Men?: One possible explanation for this phenomenon is that these top men are less selective in their swiping behavior compared to women. While they receive fewer likes than the top women, their higher like rate translates to more matches.\n",
    "\n",
    "Comparison with Women: Even though top women receive more likes, their selectivity in swiping leads to fewer matches compared to top men in some percentiles. This is a surprising outcome and warrants further investigation.\n",
    "\n",
    "Median Experience: It's important to note that while the top men enjoy a high number of matches, the median experience for men is still less favorable compared to women. Most men receive significantly fewer likes and matches."
   ]
  }
 ],
 "metadata": {
  "kernelspec": {
   "display_name": "base",
   "language": "python",
   "name": "python3"
  },
  "language_info": {
   "codemirror_mode": {
    "name": "ipython",
    "version": 3
   },
   "file_extension": ".py",
   "mimetype": "text/x-python",
   "name": "python",
   "nbconvert_exporter": "python",
   "pygments_lexer": "ipython3",
   "version": "3.10.9"
  },
  "orig_nbformat": 4
 },
 "nbformat": 4,
 "nbformat_minor": 2
}
